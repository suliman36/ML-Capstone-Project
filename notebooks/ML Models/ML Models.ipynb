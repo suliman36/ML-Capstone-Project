{
 "cells": [
  {
   "cell_type": "markdown",
   "id": "856dfd10",
   "metadata": {},
   "source": [
    "\n",
    "# ML Capstone Project\n",
    "***\n",
    "## Team: Big Heros 5\n",
    "### Team Members: \n",
    "     Amjad Alshehri (Leader)\n",
    "     Nawal Almutairi\n",
    "     Aisha Alsuodi\n",
    "     Suliman Busaleh\n",
    "     Manar Alwsaidi"
   ]
  },
  {
   "cell_type": "markdown",
   "id": "d6a8d77f",
   "metadata": {},
   "source": [
    "# ML Models"
   ]
  },
  {
   "cell_type": "markdown",
   "id": "b01c856f",
   "metadata": {},
   "source": [
    "## Steps:\n"
   ]
  },
  {
   "cell_type": "code",
   "execution_count": null,
   "id": "ed9c2bd8",
   "metadata": {},
   "outputs": [],
   "source": []
  }
 ],
 "metadata": {
  "kernelspec": {
   "display_name": "Python 3",
   "language": "python",
   "name": "python3"
  },
  "language_info": {
   "codemirror_mode": {
    "name": "ipython",
    "version": 3
   },
   "file_extension": ".py",
   "mimetype": "text/x-python",
   "name": "python",
   "nbconvert_exporter": "python",
   "pygments_lexer": "ipython3",
   "version": "3.8.8"
  }
 },
 "nbformat": 4,
 "nbformat_minor": 5
}
