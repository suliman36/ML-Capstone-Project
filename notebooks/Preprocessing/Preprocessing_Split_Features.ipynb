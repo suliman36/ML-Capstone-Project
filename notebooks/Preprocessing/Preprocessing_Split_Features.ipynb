{
 "cells": [
  {
   "cell_type": "markdown",
   "id": "b57e23f2",
   "metadata": {},
   "source": [
    "\n",
    "# ML Capstone Project\n",
    "***\n",
    "## Team: Big Heros 5\n",
    "### Team Members: \n",
    "     Amjad Alshehri (Leader)\n",
    "     Nawal Almutairi\n",
    "     Aisha Alsuodi\n",
    "     Suliman Busaleh\n",
    "     Manar Alwsaidi"
   ]
  },
  {
   "cell_type": "markdown",
   "id": "4d29bfbe",
   "metadata": {},
   "source": [
    "# Preprocessing"
   ]
  },
  {
   "cell_type": "markdown",
   "id": "27b5ab3c",
   "metadata": {},
   "source": [
    "_______________________________________________________________________________________________________\n",
    "## Steps:\n",
    "# \n",
    "#### 1. Clean the dataset by dropping unwanted columns and deleting rows with meaningless values (None, Id, -)\n",
    "#### \n",
    "#### 2. Creating a list to group all the features in the dataset with no duplicate, so we can encode them\n",
    "#### \n",
    "#### 3. Encode all the unique features\n",
    "#### \n",
    "#### 4. Save the preprocessed dataset to translate and map the data with Excel, and then using it for the EDA"
   ]
  },
  {
   "cell_type": "markdown",
   "id": "4b2ad4f7",
   "metadata": {},
   "source": [
    "_______________________________________________________________________________________________________"
   ]
  },
  {
   "cell_type": "markdown",
   "id": "f10d34bc",
   "metadata": {},
   "source": [
    "#### 1. Clean the dataset"
   ]
  },
  {
   "cell_type": "code",
   "execution_count": 1,
   "id": "26ff671b",
   "metadata": {},
   "outputs": [],
   "source": [
    "# Import libraries\n",
    "\n",
    "%matplotlib inline\n",
    "import pandas as pd\n",
    "import matplotlib.pyplot as plt\n",
    "import numpy as np\n",
    "import seaborn as sns\n",
    "from sklearn.preprocessing import MultiLabelBinarizer"
   ]
  },
  {
   "cell_type": "code",
   "execution_count": 2,
   "id": "7780f371",
   "metadata": {},
   "outputs": [],
   "source": [
    "# Read the dataset\n",
    "df = pd.read_excel('Gethern August 2022 (AA).xlsx')"
   ]
  },
  {
   "cell_type": "code",
   "execution_count": 3,
   "id": "dd250a96",
   "metadata": {},
   "outputs": [
    {
     "data": {
      "text/html": [
       "<div>\n",
       "<style scoped>\n",
       "    .dataframe tbody tr th:only-of-type {\n",
       "        vertical-align: middle;\n",
       "    }\n",
       "\n",
       "    .dataframe tbody tr th {\n",
       "        vertical-align: top;\n",
       "    }\n",
       "\n",
       "    .dataframe thead th {\n",
       "        text-align: right;\n",
       "    }\n",
       "</style>\n",
       "<table border=\"1\" class=\"dataframe\">\n",
       "  <thead>\n",
       "    <tr style=\"text-align: right;\">\n",
       "      <th></th>\n",
       "      <th>id</th>\n",
       "      <th>selected_check_in</th>\n",
       "      <th>month_check_in</th>\n",
       "      <th>selected_check_out</th>\n",
       "      <th>chalet_id</th>\n",
       "      <th>title</th>\n",
       "      <th>unit_custom_title</th>\n",
       "      <th>chalet_title</th>\n",
       "      <th>code</th>\n",
       "      <th>isPublished</th>\n",
       "      <th>...</th>\n",
       "      <th>services_amount</th>\n",
       "      <th>final_price_services</th>\n",
       "      <th>views_count</th>\n",
       "      <th>lat</th>\n",
       "      <th>lng</th>\n",
       "      <th>views_count_k</th>\n",
       "      <th>booking_count</th>\n",
       "      <th>address</th>\n",
       "      <th>Unnamed: 39</th>\n",
       "      <th>distance_in_km</th>\n",
       "    </tr>\n",
       "  </thead>\n",
       "  <tbody>\n",
       "    <tr>\n",
       "      <th>0</th>\n",
       "      <td>13</td>\n",
       "      <td>2022-08-01</td>\n",
       "      <td>8</td>\n",
       "      <td>2022-08-02</td>\n",
       "      <td>12</td>\n",
       "      <td>كود الوحدة (100)</td>\n",
       "      <td>شاليه دورين بمسبح بحاجز</td>\n",
       "      <td>شالية</td>\n",
       "      <td>100</td>\n",
       "      <td>1</td>\n",
       "      <td>...</td>\n",
       "      <td>0</td>\n",
       "      <td>890</td>\n",
       "      <td>165160</td>\n",
       "      <td>24.920518</td>\n",
       "      <td>46.807296</td>\n",
       "      <td>165 K</td>\n",
       "      <td>6</td>\n",
       "      <td>الرمال</td>\n",
       "      <td>NaN</td>\n",
       "      <td>None</td>\n",
       "    </tr>\n",
       "    <tr>\n",
       "      <th>1</th>\n",
       "      <td>13</td>\n",
       "      <td>2022-08-03</td>\n",
       "      <td>8</td>\n",
       "      <td>2022-08-04</td>\n",
       "      <td>12</td>\n",
       "      <td>كود الوحدة (100)</td>\n",
       "      <td>شاليه دورين بمسبح بحاجز</td>\n",
       "      <td>شالية</td>\n",
       "      <td>100</td>\n",
       "      <td>1</td>\n",
       "      <td>...</td>\n",
       "      <td>0</td>\n",
       "      <td>890</td>\n",
       "      <td>166069</td>\n",
       "      <td>24.920518</td>\n",
       "      <td>46.807296</td>\n",
       "      <td>166 K</td>\n",
       "      <td>7</td>\n",
       "      <td>الرمال</td>\n",
       "      <td>NaN</td>\n",
       "      <td>None</td>\n",
       "    </tr>\n",
       "    <tr>\n",
       "      <th>2</th>\n",
       "      <td>13</td>\n",
       "      <td>2022-08-04</td>\n",
       "      <td>8</td>\n",
       "      <td>2022-08-05</td>\n",
       "      <td>12</td>\n",
       "      <td>كود الوحدة (100)</td>\n",
       "      <td>شاليه دورين بمسبح بحاجز</td>\n",
       "      <td>شالية</td>\n",
       "      <td>100</td>\n",
       "      <td>1</td>\n",
       "      <td>...</td>\n",
       "      <td>0</td>\n",
       "      <td>1090</td>\n",
       "      <td>167359</td>\n",
       "      <td>24.920518</td>\n",
       "      <td>46.807296</td>\n",
       "      <td>167 K</td>\n",
       "      <td>8</td>\n",
       "      <td>الرمال</td>\n",
       "      <td>NaN</td>\n",
       "      <td>None</td>\n",
       "    </tr>\n",
       "    <tr>\n",
       "      <th>3</th>\n",
       "      <td>13</td>\n",
       "      <td>2022-08-05</td>\n",
       "      <td>8</td>\n",
       "      <td>2022-08-06</td>\n",
       "      <td>12</td>\n",
       "      <td>كود الوحدة (100)</td>\n",
       "      <td>شاليه دورين بمسبح بحاجز</td>\n",
       "      <td>شالية</td>\n",
       "      <td>100</td>\n",
       "      <td>1</td>\n",
       "      <td>...</td>\n",
       "      <td>0</td>\n",
       "      <td>1200</td>\n",
       "      <td>168279</td>\n",
       "      <td>24.920518</td>\n",
       "      <td>46.807296</td>\n",
       "      <td>168 K</td>\n",
       "      <td>10</td>\n",
       "      <td>الرمال</td>\n",
       "      <td>NaN</td>\n",
       "      <td>None</td>\n",
       "    </tr>\n",
       "    <tr>\n",
       "      <th>4</th>\n",
       "      <td>13</td>\n",
       "      <td>2022-08-06</td>\n",
       "      <td>8</td>\n",
       "      <td>2022-08-07</td>\n",
       "      <td>12</td>\n",
       "      <td>كود الوحدة (100)</td>\n",
       "      <td>شاليه دورين بمسبح بحاجز</td>\n",
       "      <td>شالية</td>\n",
       "      <td>100</td>\n",
       "      <td>1</td>\n",
       "      <td>...</td>\n",
       "      <td>0</td>\n",
       "      <td>960</td>\n",
       "      <td>168406</td>\n",
       "      <td>24.920518</td>\n",
       "      <td>46.807296</td>\n",
       "      <td>168 K</td>\n",
       "      <td>10</td>\n",
       "      <td>الرمال</td>\n",
       "      <td>NaN</td>\n",
       "      <td>None</td>\n",
       "    </tr>\n",
       "  </tbody>\n",
       "</table>\n",
       "<p>5 rows × 41 columns</p>\n",
       "</div>"
      ],
      "text/plain": [
       "   id selected_check_in  month_check_in selected_check_out  chalet_id  \\\n",
       "0  13        2022-08-01               8         2022-08-02         12   \n",
       "1  13        2022-08-03               8         2022-08-04         12   \n",
       "2  13        2022-08-04               8         2022-08-05         12   \n",
       "3  13        2022-08-05               8         2022-08-06         12   \n",
       "4  13        2022-08-06               8         2022-08-07         12   \n",
       "\n",
       "              title        unit_custom_title chalet_title code  isPublished  \\\n",
       "0  كود الوحدة (100)  شاليه دورين بمسبح بحاجز        شالية  100            1   \n",
       "1  كود الوحدة (100)  شاليه دورين بمسبح بحاجز        شالية  100            1   \n",
       "2  كود الوحدة (100)  شاليه دورين بمسبح بحاجز        شالية  100            1   \n",
       "3  كود الوحدة (100)  شاليه دورين بمسبح بحاجز        شالية  100            1   \n",
       "4  كود الوحدة (100)  شاليه دورين بمسبح بحاجز        شالية  100            1   \n",
       "\n",
       "   ... services_amount  final_price_services  views_count        lat  \\\n",
       "0  ...               0                   890       165160  24.920518   \n",
       "1  ...               0                   890       166069  24.920518   \n",
       "2  ...               0                  1090       167359  24.920518   \n",
       "3  ...               0                  1200       168279  24.920518   \n",
       "4  ...               0                   960       168406  24.920518   \n",
       "\n",
       "         lng  views_count_k  booking_count  address  Unnamed: 39  \\\n",
       "0  46.807296          165 K              6   الرمال          NaN   \n",
       "1  46.807296          166 K              7   الرمال          NaN   \n",
       "2  46.807296          167 K              8   الرمال          NaN   \n",
       "3  46.807296          168 K             10   الرمال          NaN   \n",
       "4  46.807296          168 K             10   الرمال          NaN   \n",
       "\n",
       "   distance_in_km  \n",
       "0            None  \n",
       "1            None  \n",
       "2            None  \n",
       "3            None  \n",
       "4            None  \n",
       "\n",
       "[5 rows x 41 columns]"
      ]
     },
     "execution_count": 3,
     "metadata": {},
     "output_type": "execute_result"
    }
   ],
   "source": [
    "df.head()"
   ]
  },
  {
   "cell_type": "code",
   "execution_count": 4,
   "id": "653ddc28",
   "metadata": {},
   "outputs": [
    {
     "data": {
      "text/plain": [
       "Index(['id', 'selected_check_in', 'month_check_in', 'selected_check_out',\n",
       "       'chalet_id', 'title', 'unit_custom_title', 'chalet_title', 'code',\n",
       "       'isPublished', 'features', 'space', 'isUnitAvailable', 'normal_price',\n",
       "       'cancel_price', 'final_price', 'avg_price', 'nights',\n",
       "       'has_cancel_price', 'has_vacations', 'has_holidayes', 'has_offers',\n",
       "       'price_before_discount', 'day_price_format', 'day_flag', 'price',\n",
       "       'hasOffer', 'oldPrice', 'end_offer_date', 'services', 'is_services',\n",
       "       'services_amount', 'final_price_services', 'views_count', 'lat', 'lng',\n",
       "       'views_count_k', 'booking_count', 'address', 'Unnamed: 39',\n",
       "       'distance_in_km'],\n",
       "      dtype='object')"
      ]
     },
     "execution_count": 4,
     "metadata": {},
     "output_type": "execute_result"
    }
   ],
   "source": [
    "# Names of the columns\n",
    "df.columns"
   ]
  },
  {
   "cell_type": "code",
   "execution_count": 5,
   "id": "85dcb433",
   "metadata": {},
   "outputs": [],
   "source": [
    "# Drop unwanted columns\n",
    "df = df.drop(df.iloc[:,[0,1,3,4,5,6,8,9,12,14,15,16,17,18,19,20,21,22,23,24,25,26,27,28,29,30,31,32,36,39,40]], axis = 1)"
   ]
  },
  {
   "cell_type": "code",
   "execution_count": 6,
   "id": "f484f7ea",
   "metadata": {},
   "outputs": [
    {
     "data": {
      "text/html": [
       "<div>\n",
       "<style scoped>\n",
       "    .dataframe tbody tr th:only-of-type {\n",
       "        vertical-align: middle;\n",
       "    }\n",
       "\n",
       "    .dataframe tbody tr th {\n",
       "        vertical-align: top;\n",
       "    }\n",
       "\n",
       "    .dataframe thead th {\n",
       "        text-align: right;\n",
       "    }\n",
       "</style>\n",
       "<table border=\"1\" class=\"dataframe\">\n",
       "  <thead>\n",
       "    <tr style=\"text-align: right;\">\n",
       "      <th></th>\n",
       "      <th>month_check_in</th>\n",
       "      <th>chalet_title</th>\n",
       "      <th>features</th>\n",
       "      <th>space</th>\n",
       "      <th>normal_price</th>\n",
       "      <th>views_count</th>\n",
       "      <th>lat</th>\n",
       "      <th>lng</th>\n",
       "      <th>booking_count</th>\n",
       "      <th>address</th>\n",
       "    </tr>\n",
       "  </thead>\n",
       "  <tbody>\n",
       "    <tr>\n",
       "      <th>0</th>\n",
       "      <td>8</td>\n",
       "      <td>شالية</td>\n",
       "      <td>مساحة الوحدة 250 م2, عوائل و عزاب, 1 غرف نوم, ...</td>\n",
       "      <td>250</td>\n",
       "      <td>890</td>\n",
       "      <td>165160</td>\n",
       "      <td>24.920518</td>\n",
       "      <td>46.807296</td>\n",
       "      <td>6</td>\n",
       "      <td>الرمال</td>\n",
       "    </tr>\n",
       "    <tr>\n",
       "      <th>1</th>\n",
       "      <td>8</td>\n",
       "      <td>شالية</td>\n",
       "      <td>مساحة الوحدة 250 م2, عوائل و عزاب, 1 غرف نوم, ...</td>\n",
       "      <td>250</td>\n",
       "      <td>890</td>\n",
       "      <td>166069</td>\n",
       "      <td>24.920518</td>\n",
       "      <td>46.807296</td>\n",
       "      <td>7</td>\n",
       "      <td>الرمال</td>\n",
       "    </tr>\n",
       "    <tr>\n",
       "      <th>2</th>\n",
       "      <td>8</td>\n",
       "      <td>شالية</td>\n",
       "      <td>مساحة الوحدة 250 م2, عوائل و عزاب, 1 غرف نوم, ...</td>\n",
       "      <td>250</td>\n",
       "      <td>1200</td>\n",
       "      <td>167359</td>\n",
       "      <td>24.920518</td>\n",
       "      <td>46.807296</td>\n",
       "      <td>8</td>\n",
       "      <td>الرمال</td>\n",
       "    </tr>\n",
       "    <tr>\n",
       "      <th>3</th>\n",
       "      <td>8</td>\n",
       "      <td>شالية</td>\n",
       "      <td>مساحة الوحدة 250 م2, عوائل و عزاب, 1 غرف نوم, ...</td>\n",
       "      <td>250</td>\n",
       "      <td>1400</td>\n",
       "      <td>168279</td>\n",
       "      <td>24.920518</td>\n",
       "      <td>46.807296</td>\n",
       "      <td>10</td>\n",
       "      <td>الرمال</td>\n",
       "    </tr>\n",
       "    <tr>\n",
       "      <th>4</th>\n",
       "      <td>8</td>\n",
       "      <td>شالية</td>\n",
       "      <td>مساحة الوحدة 250 م2, عوائل و عزاب, 1 غرف نوم, ...</td>\n",
       "      <td>250</td>\n",
       "      <td>960</td>\n",
       "      <td>168406</td>\n",
       "      <td>24.920518</td>\n",
       "      <td>46.807296</td>\n",
       "      <td>10</td>\n",
       "      <td>الرمال</td>\n",
       "    </tr>\n",
       "  </tbody>\n",
       "</table>\n",
       "</div>"
      ],
      "text/plain": [
       "   month_check_in chalet_title  \\\n",
       "0               8        شالية   \n",
       "1               8        شالية   \n",
       "2               8        شالية   \n",
       "3               8        شالية   \n",
       "4               8        شالية   \n",
       "\n",
       "                                            features  space  normal_price  \\\n",
       "0  مساحة الوحدة 250 م2, عوائل و عزاب, 1 غرف نوم, ...    250           890   \n",
       "1  مساحة الوحدة 250 م2, عوائل و عزاب, 1 غرف نوم, ...    250           890   \n",
       "2  مساحة الوحدة 250 م2, عوائل و عزاب, 1 غرف نوم, ...    250          1200   \n",
       "3  مساحة الوحدة 250 م2, عوائل و عزاب, 1 غرف نوم, ...    250          1400   \n",
       "4  مساحة الوحدة 250 م2, عوائل و عزاب, 1 غرف نوم, ...    250           960   \n",
       "\n",
       "   views_count        lat        lng  booking_count address  \n",
       "0       165160  24.920518  46.807296              6  الرمال  \n",
       "1       166069  24.920518  46.807296              7  الرمال  \n",
       "2       167359  24.920518  46.807296              8  الرمال  \n",
       "3       168279  24.920518  46.807296             10  الرمال  \n",
       "4       168406  24.920518  46.807296             10  الرمال  "
      ]
     },
     "execution_count": 6,
     "metadata": {},
     "output_type": "execute_result"
    }
   ],
   "source": [
    "# After droping the unwanted columns\n",
    "df.head()"
   ]
  },
  {
   "cell_type": "code",
   "execution_count": 7,
   "id": "70030642",
   "metadata": {},
   "outputs": [],
   "source": [
    "# Delete rowns with unwanted values\n",
    "\n",
    "df.drop(df.loc[df['chalet_title'] == 'None'].index, inplace=True)\n",
    "df.drop(df.loc[df['chalet_title'] == 'id'].index, inplace=True)\n",
    "df.drop(df.loc[df['space'] == 0].index, inplace=True)\n",
    "df.drop(df.loc[df['address'] == '-'].index, inplace=True)"
   ]
  },
  {
   "cell_type": "code",
   "execution_count": 8,
   "id": "2e78d308",
   "metadata": {},
   "outputs": [
    {
     "data": {
      "text/html": [
       "<div>\n",
       "<style scoped>\n",
       "    .dataframe tbody tr th:only-of-type {\n",
       "        vertical-align: middle;\n",
       "    }\n",
       "\n",
       "    .dataframe tbody tr th {\n",
       "        vertical-align: top;\n",
       "    }\n",
       "\n",
       "    .dataframe thead th {\n",
       "        text-align: right;\n",
       "    }\n",
       "</style>\n",
       "<table border=\"1\" class=\"dataframe\">\n",
       "  <thead>\n",
       "    <tr style=\"text-align: right;\">\n",
       "      <th></th>\n",
       "      <th>month_check_in</th>\n",
       "      <th>chalet_title</th>\n",
       "      <th>features</th>\n",
       "      <th>space</th>\n",
       "      <th>normal_price</th>\n",
       "      <th>views_count</th>\n",
       "      <th>lat</th>\n",
       "      <th>lng</th>\n",
       "      <th>booking_count</th>\n",
       "      <th>address</th>\n",
       "    </tr>\n",
       "  </thead>\n",
       "  <tbody>\n",
       "  </tbody>\n",
       "</table>\n",
       "</div>"
      ],
      "text/plain": [
       "Empty DataFrame\n",
       "Columns: [month_check_in, chalet_title, features, space, normal_price, views_count, lat, lng, booking_count, address]\n",
       "Index: []"
      ]
     },
     "execution_count": 8,
     "metadata": {},
     "output_type": "execute_result"
    }
   ],
   "source": [
    "# Check\n",
    "\n",
    "df.loc[df['chalet_title'] == 'None']\n",
    "df.loc[df['chalet_title'] == 'id']\n",
    "df.loc[df['space'] == 0]\n",
    "df.loc[df['address'] == '-']"
   ]
  },
  {
   "cell_type": "code",
   "execution_count": 10,
   "id": "fc82ce88",
   "metadata": {},
   "outputs": [
    {
     "data": {
      "text/plain": [
       "0        مساحة الوحدة 250 م2, عوائل و عزاب, 1 غرف نوم, ...\n",
       "1        مساحة الوحدة 250 م2, عوائل و عزاب, 1 غرف نوم, ...\n",
       "2        مساحة الوحدة 250 م2, عوائل و عزاب, 1 غرف نوم, ...\n",
       "3        مساحة الوحدة 250 م2, عوائل و عزاب, 1 غرف نوم, ...\n",
       "4        مساحة الوحدة 250 م2, عوائل و عزاب, 1 غرف نوم, ...\n",
       "                               ...                        \n",
       "91077    مساحة الوحدة 38 م2, عوائل و عزاب, 1 غرف نوم, 1...\n",
       "91078    مساحة الوحدة 38 م2, عوائل و عزاب, 1 غرف نوم, 1...\n",
       "91079    مساحة الوحدة 38 م2, عوائل و عزاب, 1 غرف نوم, 1...\n",
       "91080    مساحة الوحدة 100 م2, عوائل و عزاب, 1 غرف نوم, ...\n",
       "91081    مساحة الوحدة 50 م2, عوائل و عزاب, 1 غرف نوم, 1...\n",
       "Name: features, Length: 90454, dtype: object"
      ]
     },
     "execution_count": 10,
     "metadata": {},
     "output_type": "execute_result"
    }
   ],
   "source": [
    "# features column is messy ---> needs cleaning\n",
    "df['features']"
   ]
  },
  {
   "cell_type": "code",
   "execution_count": 11,
   "id": "140029b2",
   "metadata": {},
   "outputs": [],
   "source": [
    "# Remove numbers from features\n",
    "# So that: Two bedrooms, Three bedrooms -----> all become as bedrooms\n",
    "\n",
    "df['features'] = df['features'].replace('\\d+', '', regex=True)"
   ]
  },
  {
   "cell_type": "code",
   "execution_count": 12,
   "id": "7ca0612e",
   "metadata": {},
   "outputs": [
    {
     "data": {
      "text/plain": [
       "0        مساحة الوحدة  م, عوائل و عزاب,  غرف نوم,  سرير...\n",
       "1        مساحة الوحدة  م, عوائل و عزاب,  غرف نوم,  سرير...\n",
       "2        مساحة الوحدة  م, عوائل و عزاب,  غرف نوم,  سرير...\n",
       "3        مساحة الوحدة  م, عوائل و عزاب,  غرف نوم,  سرير...\n",
       "4        مساحة الوحدة  م, عوائل و عزاب,  غرف نوم,  سرير...\n",
       "                               ...                        \n",
       "91077    مساحة الوحدة  م, عوائل و عزاب,  غرف نوم,  سرير...\n",
       "91078    مساحة الوحدة  م, عوائل و عزاب,  غرف نوم,  سرير...\n",
       "91079    مساحة الوحدة  م, عوائل و عزاب,  غرف نوم,  سرير...\n",
       "91080    مساحة الوحدة  م, عوائل و عزاب,  غرف نوم,  سرير...\n",
       "91081    مساحة الوحدة  م, عوائل و عزاب,  غرف نوم,  سرير...\n",
       "Name: features, Length: 90454, dtype: object"
      ]
     },
     "execution_count": 12,
     "metadata": {},
     "output_type": "execute_result"
    }
   ],
   "source": [
    "# After removing the numbers\n",
    "df['features']"
   ]
  },
  {
   "cell_type": "code",
   "execution_count": 13,
   "id": "1da3ebcb",
   "metadata": {},
   "outputs": [],
   "source": [
    "# Delete 'مساحة الوحدة' because we already have a column for the space\n",
    "df['features'] = df['features'].str.replace(r'مساحة الوحدة  م, ', '')"
   ]
  },
  {
   "cell_type": "code",
   "execution_count": 14,
   "id": "4d278b28",
   "metadata": {},
   "outputs": [
    {
     "data": {
      "text/plain": [
       "0        عوائل و عزاب,  غرف نوم,  سرير ماستر, مسبح خارج...\n",
       "1        عوائل و عزاب,  غرف نوم,  سرير ماستر, مسبح خارج...\n",
       "2        عوائل و عزاب,  غرف نوم,  سرير ماستر, مسبح خارج...\n",
       "3        عوائل و عزاب,  غرف نوم,  سرير ماستر, مسبح خارج...\n",
       "4        عوائل و عزاب,  غرف نوم,  سرير ماستر, مسبح خارج...\n",
       "                               ...                        \n",
       "91077    عوائل و عزاب,  غرف نوم,  سرير ماستر, انترنت, ف...\n",
       "91078    عوائل و عزاب,  غرف نوم,  سرير ماستر, انترنت, ف...\n",
       "91079    عوائل و عزاب,  غرف نوم,  سرير ماستر, انترنت, ف...\n",
       "91080    عوائل و عزاب,  غرف نوم,  سرير ماستر, انترنت, ف...\n",
       "91081    عوائل و عزاب,  غرف نوم,  سرير ماستر, انترنت, ف...\n",
       "Name: features, Length: 90454, dtype: object"
      ]
     },
     "execution_count": 14,
     "metadata": {},
     "output_type": "execute_result"
    }
   ],
   "source": [
    "df['features']"
   ]
  },
  {
   "cell_type": "code",
   "execution_count": 15,
   "id": "8852f157",
   "metadata": {},
   "outputs": [
    {
     "data": {
      "text/plain": [
       "(90454, 10)"
      ]
     },
     "execution_count": 15,
     "metadata": {},
     "output_type": "execute_result"
    }
   ],
   "source": [
    "df.shape"
   ]
  },
  {
   "cell_type": "markdown",
   "id": "e4916671",
   "metadata": {},
   "source": [
    "#### 2. Create a list of all the features without dubilcate"
   ]
  },
  {
   "cell_type": "code",
   "execution_count": 16,
   "id": "0edfcd91",
   "metadata": {},
   "outputs": [
    {
     "data": {
      "text/html": [
       "<div>\n",
       "<style scoped>\n",
       "    .dataframe tbody tr th:only-of-type {\n",
       "        vertical-align: middle;\n",
       "    }\n",
       "\n",
       "    .dataframe tbody tr th {\n",
       "        vertical-align: top;\n",
       "    }\n",
       "\n",
       "    .dataframe thead th {\n",
       "        text-align: right;\n",
       "    }\n",
       "</style>\n",
       "<table border=\"1\" class=\"dataframe\">\n",
       "  <thead>\n",
       "    <tr style=\"text-align: right;\">\n",
       "      <th></th>\n",
       "      <th>features</th>\n",
       "    </tr>\n",
       "  </thead>\n",
       "  <tbody>\n",
       "    <tr>\n",
       "      <th>0</th>\n",
       "      <td>عوائل و عزاب,  غرف نوم,  سرير ماستر, مسبح خارج...</td>\n",
       "    </tr>\n",
       "    <tr>\n",
       "      <th>1</th>\n",
       "      <td>عوائل و عزاب,  غرف نوم,  سرير ماستر, مسبح خارج...</td>\n",
       "    </tr>\n",
       "    <tr>\n",
       "      <th>2</th>\n",
       "      <td>عوائل و عزاب,  غرف نوم,  سرير ماستر, مسبح خارج...</td>\n",
       "    </tr>\n",
       "    <tr>\n",
       "      <th>3</th>\n",
       "      <td>عوائل و عزاب,  غرف نوم,  سرير ماستر, مسبح خارج...</td>\n",
       "    </tr>\n",
       "    <tr>\n",
       "      <th>4</th>\n",
       "      <td>عوائل و عزاب,  غرف نوم,  سرير ماستر, مسبح خارج...</td>\n",
       "    </tr>\n",
       "  </tbody>\n",
       "</table>\n",
       "</div>"
      ],
      "text/plain": [
       "                                            features\n",
       "0  عوائل و عزاب,  غرف نوم,  سرير ماستر, مسبح خارج...\n",
       "1  عوائل و عزاب,  غرف نوم,  سرير ماستر, مسبح خارج...\n",
       "2  عوائل و عزاب,  غرف نوم,  سرير ماستر, مسبح خارج...\n",
       "3  عوائل و عزاب,  غرف نوم,  سرير ماستر, مسبح خارج...\n",
       "4  عوائل و عزاب,  غرف نوم,  سرير ماستر, مسبح خارج..."
      ]
     },
     "execution_count": 16,
     "metadata": {},
     "output_type": "execute_result"
    }
   ],
   "source": [
    "# Work on the features column only to make the list\n",
    "\n",
    "df_feature = df.iloc[:,2]\n",
    "df_feature = pd.DataFrame(df_feature)\n",
    "df_feature.head()"
   ]
  },
  {
   "cell_type": "code",
   "execution_count": 17,
   "id": "33c1c498",
   "metadata": {},
   "outputs": [],
   "source": [
    "#Split the features by comma to store it as a list\n",
    "\n",
    "# Explaination:\n",
    "\n",
    "# row = bedroom, pool, playing ground ---> all as one value\n",
    "# After spliting: [bedroom, pool, playing ground] ---> diffirent values in a list for each row\n",
    "\n",
    "features_split = df_feature[\"features\"].str.split(\",\")"
   ]
  },
  {
   "cell_type": "code",
   "execution_count": 18,
   "id": "0bd5d49a",
   "metadata": {},
   "outputs": [
    {
     "data": {
      "text/plain": [
       "0        [عوائل و عزاب,   غرف نوم,   سرير ماستر,  مسبح ...\n",
       "1        [عوائل و عزاب,   غرف نوم,   سرير ماستر,  مسبح ...\n",
       "2        [عوائل و عزاب,   غرف نوم,   سرير ماستر,  مسبح ...\n",
       "3        [عوائل و عزاب,   غرف نوم,   سرير ماستر,  مسبح ...\n",
       "4        [عوائل و عزاب,   غرف نوم,   سرير ماستر,  مسبح ...\n",
       "                               ...                        \n",
       "91077    [عوائل و عزاب,   غرف نوم,   سرير ماستر,  انترن...\n",
       "91078    [عوائل و عزاب,   غرف نوم,   سرير ماستر,  انترن...\n",
       "91079    [عوائل و عزاب,   غرف نوم,   سرير ماستر,  انترن...\n",
       "91080    [عوائل و عزاب,   غرف نوم,   سرير ماستر,  انترن...\n",
       "91081    [عوائل و عزاب,   غرف نوم,   سرير ماستر,  انترن...\n",
       "Name: features, Length: 90454, dtype: object"
      ]
     },
     "execution_count": 18,
     "metadata": {},
     "output_type": "execute_result"
    }
   ],
   "source": [
    "features_split"
   ]
  },
  {
   "cell_type": "code",
   "execution_count": 19,
   "id": "a0bd3257",
   "metadata": {},
   "outputs": [],
   "source": [
    "# Use explode to separate values ---> this is used to store all the features in the list without duplicate\n",
    "for i in [\"features\"]:\n",
    "    split = features_split.explode(i)"
   ]
  },
  {
   "cell_type": "code",
   "execution_count": 20,
   "id": "3f951212",
   "metadata": {},
   "outputs": [
    {
     "data": {
      "text/plain": [
       "0              عوائل و عزاب\n",
       "1                   غرف نوم\n",
       "2                سرير ماستر\n",
       "3          مسبح خارجي بحاجز\n",
       "4                   بروجكتر\n",
       "                ...        \n",
       "758785           سرير ماستر\n",
       "758786               انترنت\n",
       "758787                فريزر\n",
       "758788              تلفزيون\n",
       "758789            دخول ذاتي\n",
       "Name: features, Length: 758790, dtype: object"
      ]
     },
     "execution_count": 20,
     "metadata": {},
     "output_type": "execute_result"
    }
   ],
   "source": [
    "# A literal explosion O-O\n",
    "split"
   ]
  },
  {
   "cell_type": "code",
   "execution_count": 21,
   "id": "5ba721e5",
   "metadata": {},
   "outputs": [
    {
     "name": "stdout",
     "output_type": "stream",
     "text": [
      "['عوائل و عزاب', '  غرف نوم', '  سرير ماستر', ' مسبح خارجي بحاجز', ' بروجكتر', ' مسطح اخضر', ' بلكونة', ' تلفزيون', 'عوائل فقط', ' جاكوزي ', ' مسبح خارجي بدون حاجز', ' مسبح بالعاب مائية (مفرغ)', ' ألعاب أطفال', ' العاب رمليه ', ' موقد حطب', '  سرير مفرد', ' ركن شواء ', ' إضاءة إضافية', ' مسبح داخلي بحاجز', ' مسبح داخلي بدون حاجز', ' نطيطه', ' انترنت', ' فريزر', ' مسبح خارجي بحاجز (مفرغ)', ' رذاذ', ' سماعات ', ' مسبح بالعاب مائية', ' مدخل سيارة ', ' صالة طعام', ' غرفة سينما', ' بانيو', ' ستيج مضيئ', ' مسبح داخلي بدون حاجز (مفرغ)', ' مسبح داخلي بحاجز (مفرغ)', ' ملعب كرة قدم', ' مسبح بالعاب مائية بحاجز', ' مسبح خارجي بدون حاجز (مفرغ)', ' ملحق خارجي', ' زحليقه', ' خيمه', ' ملعب كرة طائرة', ' بيت شعر', ' جلسة عريش', ' مكتب امن', ' غرفة تجهيز عروس', ' بلياردو', ' مسبح بالعاب مائية بحاجز (مفرغ)', ' بيت شعر ملكي', ' غرفة سائقين ', ' اطلالة على الحديقة', ' مسبح عام للنساء ', ' دخول ذاتي', ' طاولة تنس', ' برميل مندي', ' كرسي مساج', ' قسمين منفصلة', ' قسمين', ' مسبح عام مشترك', ' قسمين متصلة بينهم باب', ' ساونا', ' ملعب كرة سله', ' مسبح بتدفئة', ' اصنصير  - مصاعد', ' تزلج على الرمل', 'عزاب فقط', ' اطلالة على الجبل', '', ' بلايستيشن', ' شلال على الجبل', ' اطلاله على البحر']\n"
     ]
    }
   ],
   "source": [
    "# List with all the unique features\n",
    "\n",
    "output = []\n",
    "\n",
    "for x in split:\n",
    "    if x not in output:\n",
    "        output.append(x)\n",
    "print(output)"
   ]
  },
  {
   "cell_type": "code",
   "execution_count": 22,
   "id": "1e0c0924",
   "metadata": {},
   "outputs": [
    {
     "data": {
      "text/plain": [
       "70"
      ]
     },
     "execution_count": 22,
     "metadata": {},
     "output_type": "execute_result"
    }
   ],
   "source": [
    "# Number of the unique features \n",
    "len(output)"
   ]
  },
  {
   "cell_type": "markdown",
   "id": "ed658480",
   "metadata": {},
   "source": [
    "#### 3. Encode every feature"
   ]
  },
  {
   "cell_type": "code",
   "execution_count": 26,
   "id": "9902b74d",
   "metadata": {},
   "outputs": [],
   "source": [
    "# Replace the features column with the list we did for every row\n",
    "df['features'] = features_split"
   ]
  },
  {
   "cell_type": "code",
   "execution_count": 27,
   "id": "a73e5ae9",
   "metadata": {},
   "outputs": [
    {
     "data": {
      "text/html": [
       "<div>\n",
       "<style scoped>\n",
       "    .dataframe tbody tr th:only-of-type {\n",
       "        vertical-align: middle;\n",
       "    }\n",
       "\n",
       "    .dataframe tbody tr th {\n",
       "        vertical-align: top;\n",
       "    }\n",
       "\n",
       "    .dataframe thead th {\n",
       "        text-align: right;\n",
       "    }\n",
       "</style>\n",
       "<table border=\"1\" class=\"dataframe\">\n",
       "  <thead>\n",
       "    <tr style=\"text-align: right;\">\n",
       "      <th></th>\n",
       "      <th>month_check_in</th>\n",
       "      <th>chalet_title</th>\n",
       "      <th>features</th>\n",
       "      <th>space</th>\n",
       "      <th>normal_price</th>\n",
       "      <th>views_count</th>\n",
       "      <th>lat</th>\n",
       "      <th>lng</th>\n",
       "      <th>booking_count</th>\n",
       "      <th>address</th>\n",
       "    </tr>\n",
       "  </thead>\n",
       "  <tbody>\n",
       "    <tr>\n",
       "      <th>0</th>\n",
       "      <td>8</td>\n",
       "      <td>شالية</td>\n",
       "      <td>[عوائل و عزاب,   غرف نوم,   سرير ماستر,  مسبح ...</td>\n",
       "      <td>250</td>\n",
       "      <td>890</td>\n",
       "      <td>165160</td>\n",
       "      <td>24.920518</td>\n",
       "      <td>46.807296</td>\n",
       "      <td>6</td>\n",
       "      <td>الرمال</td>\n",
       "    </tr>\n",
       "    <tr>\n",
       "      <th>1</th>\n",
       "      <td>8</td>\n",
       "      <td>شالية</td>\n",
       "      <td>[عوائل و عزاب,   غرف نوم,   سرير ماستر,  مسبح ...</td>\n",
       "      <td>250</td>\n",
       "      <td>890</td>\n",
       "      <td>166069</td>\n",
       "      <td>24.920518</td>\n",
       "      <td>46.807296</td>\n",
       "      <td>7</td>\n",
       "      <td>الرمال</td>\n",
       "    </tr>\n",
       "    <tr>\n",
       "      <th>2</th>\n",
       "      <td>8</td>\n",
       "      <td>شالية</td>\n",
       "      <td>[عوائل و عزاب,   غرف نوم,   سرير ماستر,  مسبح ...</td>\n",
       "      <td>250</td>\n",
       "      <td>1200</td>\n",
       "      <td>167359</td>\n",
       "      <td>24.920518</td>\n",
       "      <td>46.807296</td>\n",
       "      <td>8</td>\n",
       "      <td>الرمال</td>\n",
       "    </tr>\n",
       "    <tr>\n",
       "      <th>3</th>\n",
       "      <td>8</td>\n",
       "      <td>شالية</td>\n",
       "      <td>[عوائل و عزاب,   غرف نوم,   سرير ماستر,  مسبح ...</td>\n",
       "      <td>250</td>\n",
       "      <td>1400</td>\n",
       "      <td>168279</td>\n",
       "      <td>24.920518</td>\n",
       "      <td>46.807296</td>\n",
       "      <td>10</td>\n",
       "      <td>الرمال</td>\n",
       "    </tr>\n",
       "    <tr>\n",
       "      <th>4</th>\n",
       "      <td>8</td>\n",
       "      <td>شالية</td>\n",
       "      <td>[عوائل و عزاب,   غرف نوم,   سرير ماستر,  مسبح ...</td>\n",
       "      <td>250</td>\n",
       "      <td>960</td>\n",
       "      <td>168406</td>\n",
       "      <td>24.920518</td>\n",
       "      <td>46.807296</td>\n",
       "      <td>10</td>\n",
       "      <td>الرمال</td>\n",
       "    </tr>\n",
       "  </tbody>\n",
       "</table>\n",
       "</div>"
      ],
      "text/plain": [
       "   month_check_in chalet_title  \\\n",
       "0               8        شالية   \n",
       "1               8        شالية   \n",
       "2               8        شالية   \n",
       "3               8        شالية   \n",
       "4               8        شالية   \n",
       "\n",
       "                                            features  space  normal_price  \\\n",
       "0  [عوائل و عزاب,   غرف نوم,   سرير ماستر,  مسبح ...    250           890   \n",
       "1  [عوائل و عزاب,   غرف نوم,   سرير ماستر,  مسبح ...    250           890   \n",
       "2  [عوائل و عزاب,   غرف نوم,   سرير ماستر,  مسبح ...    250          1200   \n",
       "3  [عوائل و عزاب,   غرف نوم,   سرير ماستر,  مسبح ...    250          1400   \n",
       "4  [عوائل و عزاب,   غرف نوم,   سرير ماستر,  مسبح ...    250           960   \n",
       "\n",
       "   views_count        lat        lng  booking_count address  \n",
       "0       165160  24.920518  46.807296              6  الرمال  \n",
       "1       166069  24.920518  46.807296              7  الرمال  \n",
       "2       167359  24.920518  46.807296              8  الرمال  \n",
       "3       168279  24.920518  46.807296             10  الرمال  \n",
       "4       168406  24.920518  46.807296             10  الرمال  "
      ]
     },
     "execution_count": 27,
     "metadata": {},
     "output_type": "execute_result"
    }
   ],
   "source": [
    "# The dataframe with the features as a list (for every row)\n",
    "df.head()"
   ]
  },
  {
   "cell_type": "code",
   "execution_count": 28,
   "id": "67bc4933",
   "metadata": {},
   "outputs": [
    {
     "data": {
      "text/plain": [
       "(90454, 10)"
      ]
     },
     "execution_count": 28,
     "metadata": {},
     "output_type": "execute_result"
    }
   ],
   "source": [
    "# Number of columns before encoding\n",
    "df.shape"
   ]
  },
  {
   "cell_type": "code",
   "execution_count": 29,
   "id": "d34beaa4",
   "metadata": {},
   "outputs": [],
   "source": [
    "# Encode the fetures without dublicate\n",
    "\n",
    "mlb = MultiLabelBinarizer()\n",
    "df_mlb = df.join(pd.DataFrame(mlb.fit_transform(df.pop('features')),\n",
    "                          columns=mlb.classes_,\n",
    "                          index=df.index))"
   ]
  },
  {
   "cell_type": "code",
   "execution_count": 33,
   "id": "cffdfb1a",
   "metadata": {},
   "outputs": [
    {
     "data": {
      "text/html": [
       "<div>\n",
       "<style scoped>\n",
       "    .dataframe tbody tr th:only-of-type {\n",
       "        vertical-align: middle;\n",
       "    }\n",
       "\n",
       "    .dataframe tbody tr th {\n",
       "        vertical-align: top;\n",
       "    }\n",
       "\n",
       "    .dataframe thead th {\n",
       "        text-align: right;\n",
       "    }\n",
       "</style>\n",
       "<table border=\"1\" class=\"dataframe\">\n",
       "  <thead>\n",
       "    <tr style=\"text-align: right;\">\n",
       "      <th></th>\n",
       "      <th>month_check_in</th>\n",
       "      <th>chalet_title</th>\n",
       "      <th>space</th>\n",
       "      <th>normal_price</th>\n",
       "      <th>views_count</th>\n",
       "      <th>lat</th>\n",
       "      <th>lng</th>\n",
       "      <th>booking_count</th>\n",
       "      <th>address</th>\n",
       "      <th></th>\n",
       "      <th>...</th>\n",
       "      <th>مكتب امن</th>\n",
       "      <th>ملحق خارجي</th>\n",
       "      <th>ملعب كرة سله</th>\n",
       "      <th>ملعب كرة طائرة</th>\n",
       "      <th>ملعب كرة قدم</th>\n",
       "      <th>موقد حطب</th>\n",
       "      <th>نطيطه</th>\n",
       "      <th>عزاب فقط</th>\n",
       "      <th>عوائل فقط</th>\n",
       "      <th>عوائل و عزاب</th>\n",
       "    </tr>\n",
       "  </thead>\n",
       "  <tbody>\n",
       "    <tr>\n",
       "      <th>0</th>\n",
       "      <td>8</td>\n",
       "      <td>شالية</td>\n",
       "      <td>250</td>\n",
       "      <td>890</td>\n",
       "      <td>165160</td>\n",
       "      <td>24.920518</td>\n",
       "      <td>46.807296</td>\n",
       "      <td>6</td>\n",
       "      <td>الرمال</td>\n",
       "      <td>0</td>\n",
       "      <td>...</td>\n",
       "      <td>0</td>\n",
       "      <td>0</td>\n",
       "      <td>0</td>\n",
       "      <td>0</td>\n",
       "      <td>0</td>\n",
       "      <td>0</td>\n",
       "      <td>0</td>\n",
       "      <td>0</td>\n",
       "      <td>0</td>\n",
       "      <td>1</td>\n",
       "    </tr>\n",
       "    <tr>\n",
       "      <th>1</th>\n",
       "      <td>8</td>\n",
       "      <td>شالية</td>\n",
       "      <td>250</td>\n",
       "      <td>890</td>\n",
       "      <td>166069</td>\n",
       "      <td>24.920518</td>\n",
       "      <td>46.807296</td>\n",
       "      <td>7</td>\n",
       "      <td>الرمال</td>\n",
       "      <td>0</td>\n",
       "      <td>...</td>\n",
       "      <td>0</td>\n",
       "      <td>0</td>\n",
       "      <td>0</td>\n",
       "      <td>0</td>\n",
       "      <td>0</td>\n",
       "      <td>0</td>\n",
       "      <td>0</td>\n",
       "      <td>0</td>\n",
       "      <td>0</td>\n",
       "      <td>1</td>\n",
       "    </tr>\n",
       "    <tr>\n",
       "      <th>2</th>\n",
       "      <td>8</td>\n",
       "      <td>شالية</td>\n",
       "      <td>250</td>\n",
       "      <td>1200</td>\n",
       "      <td>167359</td>\n",
       "      <td>24.920518</td>\n",
       "      <td>46.807296</td>\n",
       "      <td>8</td>\n",
       "      <td>الرمال</td>\n",
       "      <td>0</td>\n",
       "      <td>...</td>\n",
       "      <td>0</td>\n",
       "      <td>0</td>\n",
       "      <td>0</td>\n",
       "      <td>0</td>\n",
       "      <td>0</td>\n",
       "      <td>0</td>\n",
       "      <td>0</td>\n",
       "      <td>0</td>\n",
       "      <td>0</td>\n",
       "      <td>1</td>\n",
       "    </tr>\n",
       "    <tr>\n",
       "      <th>3</th>\n",
       "      <td>8</td>\n",
       "      <td>شالية</td>\n",
       "      <td>250</td>\n",
       "      <td>1400</td>\n",
       "      <td>168279</td>\n",
       "      <td>24.920518</td>\n",
       "      <td>46.807296</td>\n",
       "      <td>10</td>\n",
       "      <td>الرمال</td>\n",
       "      <td>0</td>\n",
       "      <td>...</td>\n",
       "      <td>0</td>\n",
       "      <td>0</td>\n",
       "      <td>0</td>\n",
       "      <td>0</td>\n",
       "      <td>0</td>\n",
       "      <td>0</td>\n",
       "      <td>0</td>\n",
       "      <td>0</td>\n",
       "      <td>0</td>\n",
       "      <td>1</td>\n",
       "    </tr>\n",
       "    <tr>\n",
       "      <th>4</th>\n",
       "      <td>8</td>\n",
       "      <td>شالية</td>\n",
       "      <td>250</td>\n",
       "      <td>960</td>\n",
       "      <td>168406</td>\n",
       "      <td>24.920518</td>\n",
       "      <td>46.807296</td>\n",
       "      <td>10</td>\n",
       "      <td>الرمال</td>\n",
       "      <td>0</td>\n",
       "      <td>...</td>\n",
       "      <td>0</td>\n",
       "      <td>0</td>\n",
       "      <td>0</td>\n",
       "      <td>0</td>\n",
       "      <td>0</td>\n",
       "      <td>0</td>\n",
       "      <td>0</td>\n",
       "      <td>0</td>\n",
       "      <td>0</td>\n",
       "      <td>1</td>\n",
       "    </tr>\n",
       "  </tbody>\n",
       "</table>\n",
       "<p>5 rows × 79 columns</p>\n",
       "</div>"
      ],
      "text/plain": [
       "   month_check_in chalet_title  space  normal_price  views_count        lat  \\\n",
       "0               8        شالية    250           890       165160  24.920518   \n",
       "1               8        شالية    250           890       166069  24.920518   \n",
       "2               8        شالية    250          1200       167359  24.920518   \n",
       "3               8        شالية    250          1400       168279  24.920518   \n",
       "4               8        شالية    250           960       168406  24.920518   \n",
       "\n",
       "         lng  booking_count address     ...   مكتب امن   ملحق خارجي  \\\n",
       "0  46.807296              6  الرمال  0  ...          0            0   \n",
       "1  46.807296              7  الرمال  0  ...          0            0   \n",
       "2  46.807296              8  الرمال  0  ...          0            0   \n",
       "3  46.807296             10  الرمال  0  ...          0            0   \n",
       "4  46.807296             10  الرمال  0  ...          0            0   \n",
       "\n",
       "    ملعب كرة سله   ملعب كرة طائرة   ملعب كرة قدم   موقد حطب   نطيطه  عزاب فقط  \\\n",
       "0              0                0              0          0       0         0   \n",
       "1              0                0              0          0       0         0   \n",
       "2              0                0              0          0       0         0   \n",
       "3              0                0              0          0       0         0   \n",
       "4              0                0              0          0       0         0   \n",
       "\n",
       "   عوائل فقط  عوائل و عزاب  \n",
       "0          0             1  \n",
       "1          0             1  \n",
       "2          0             1  \n",
       "3          0             1  \n",
       "4          0             1  \n",
       "\n",
       "[5 rows x 79 columns]"
      ]
     },
     "execution_count": 33,
     "metadata": {},
     "output_type": "execute_result"
    }
   ],
   "source": [
    "# Dataframe after encoding\n",
    "df_mlb.head()"
   ]
  },
  {
   "cell_type": "code",
   "execution_count": 31,
   "id": "8fb4a180",
   "metadata": {},
   "outputs": [
    {
     "data": {
      "text/plain": [
       "(90454, 79)"
      ]
     },
     "execution_count": 31,
     "metadata": {},
     "output_type": "execute_result"
    }
   ],
   "source": [
    "# Number of columns was ---> 10\n",
    "# Number of columns now ---> 79\n",
    "# So the number of the unique features is 69\n",
    "\n",
    "df_mlb.shape"
   ]
  },
  {
   "cell_type": "markdown",
   "id": "8f128222",
   "metadata": {},
   "source": [
    "#### 4. Save the preprocessed dataset"
   ]
  },
  {
   "cell_type": "code",
   "execution_count": 34,
   "id": "dabee009",
   "metadata": {},
   "outputs": [],
   "source": [
    "df_mlb.to_excel('encoded.xlsx', index=False)"
   ]
  },
  {
   "cell_type": "markdown",
   "id": "d0665dcb",
   "metadata": {},
   "source": [
    "_______________________________________________________________________________________________________\n",
    "## Transilation and mapping will be done by Excel\n",
    "\n",
    "##### Some features column might get drop from the excel if it's not helping in the analysis"
   ]
  }
 ],
 "metadata": {
  "kernelspec": {
   "display_name": "Python 3",
   "language": "python",
   "name": "python3"
  },
  "language_info": {
   "codemirror_mode": {
    "name": "ipython",
    "version": 3
   },
   "file_extension": ".py",
   "mimetype": "text/x-python",
   "name": "python",
   "nbconvert_exporter": "python",
   "pygments_lexer": "ipython3",
   "version": "3.8.8"
  }
 },
 "nbformat": 4,
 "nbformat_minor": 5
}
