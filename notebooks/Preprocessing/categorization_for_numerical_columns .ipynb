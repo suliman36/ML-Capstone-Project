{
 "cells": [
  {
   "cell_type": "markdown",
   "id": "28c682c5",
   "metadata": {},
   "source": [
    "\n",
    "# ML Capstone Project\n",
    "***\n",
    "## Team: Big Heros 5\n",
    "### Team Members: \n",
    "     Amjad Alshehri (Leader)\n",
    "     Nawal Almutairi\n",
    "     Aisha Alsuodi\n",
    "     Suliman Busaleh\n",
    "     Manar Alwsaidi"
   ]
  },
  {
   "cell_type": "markdown",
   "id": "c5dcea6a",
   "metadata": {},
   "source": [
    "# Preprocessing"
   ]
  },
  {
   "cell_type": "code",
   "execution_count": 1,
   "id": "19f5e8f7",
   "metadata": {},
   "outputs": [],
   "source": [
    "import pandas as pd\n",
    "import numpy as np"
   ]
  },
  {
   "cell_type": "code",
   "execution_count": 2,
   "id": "00c2f437",
   "metadata": {},
   "outputs": [],
   "source": [
    "# Load the dataset\n",
    "df= pd.read_excel(\"encoded-en.(update).xlsx\")"
   ]
  },
  {
   "cell_type": "code",
   "execution_count": 3,
   "id": "6de657be",
   "metadata": {},
   "outputs": [
    {
     "data": {
      "text/html": [
       "<div>\n",
       "<style scoped>\n",
       "    .dataframe tbody tr th:only-of-type {\n",
       "        vertical-align: middle;\n",
       "    }\n",
       "\n",
       "    .dataframe tbody tr th {\n",
       "        vertical-align: top;\n",
       "    }\n",
       "\n",
       "    .dataframe thead th {\n",
       "        text-align: right;\n",
       "    }\n",
       "</style>\n",
       "<table border=\"1\" class=\"dataframe\">\n",
       "  <thead>\n",
       "    <tr style=\"text-align: right;\">\n",
       "      <th></th>\n",
       "      <th>title</th>\n",
       "      <th>space</th>\n",
       "      <th>normal_price</th>\n",
       "      <th>views_count</th>\n",
       "      <th>lat</th>\n",
       "      <th>lng</th>\n",
       "      <th>booking_count</th>\n",
       "      <th>address</th>\n",
       "      <th>elevator</th>\n",
       "      <th>internet</th>\n",
       "      <th>...</th>\n",
       "      <th>view</th>\n",
       "      <th>playground</th>\n",
       "      <th>tent</th>\n",
       "      <th>pool</th>\n",
       "      <th>bbq_corner</th>\n",
       "      <th>kitchen_equipments</th>\n",
       "      <th>guests</th>\n",
       "      <th>bed</th>\n",
       "      <th>Unnamed: 34</th>\n",
       "      <th>Unnamed: 35</th>\n",
       "    </tr>\n",
       "  </thead>\n",
       "  <tbody>\n",
       "    <tr>\n",
       "      <th>0</th>\n",
       "      <td>Chalet</td>\n",
       "      <td>250</td>\n",
       "      <td>890</td>\n",
       "      <td>165160</td>\n",
       "      <td>24.920518</td>\n",
       "      <td>46.807296</td>\n",
       "      <td>6</td>\n",
       "      <td>Ar Rimal</td>\n",
       "      <td>No</td>\n",
       "      <td>No</td>\n",
       "      <td>...</td>\n",
       "      <td>No</td>\n",
       "      <td>No</td>\n",
       "      <td>No</td>\n",
       "      <td>Yes</td>\n",
       "      <td>No</td>\n",
       "      <td>No</td>\n",
       "      <td>singles_and_families</td>\n",
       "      <td>master_bed</td>\n",
       "      <td>NaN</td>\n",
       "      <td>NaN</td>\n",
       "    </tr>\n",
       "    <tr>\n",
       "      <th>1</th>\n",
       "      <td>Chalet</td>\n",
       "      <td>250</td>\n",
       "      <td>890</td>\n",
       "      <td>166069</td>\n",
       "      <td>24.920518</td>\n",
       "      <td>46.807296</td>\n",
       "      <td>7</td>\n",
       "      <td>Ar Rimal</td>\n",
       "      <td>No</td>\n",
       "      <td>No</td>\n",
       "      <td>...</td>\n",
       "      <td>No</td>\n",
       "      <td>No</td>\n",
       "      <td>No</td>\n",
       "      <td>Yes</td>\n",
       "      <td>No</td>\n",
       "      <td>No</td>\n",
       "      <td>singles_and_families</td>\n",
       "      <td>master_bed</td>\n",
       "      <td>NaN</td>\n",
       "      <td>400320.0</td>\n",
       "    </tr>\n",
       "    <tr>\n",
       "      <th>2</th>\n",
       "      <td>Chalet</td>\n",
       "      <td>250</td>\n",
       "      <td>1200</td>\n",
       "      <td>167359</td>\n",
       "      <td>24.920518</td>\n",
       "      <td>46.807296</td>\n",
       "      <td>8</td>\n",
       "      <td>Ar Rimal</td>\n",
       "      <td>No</td>\n",
       "      <td>No</td>\n",
       "      <td>...</td>\n",
       "      <td>No</td>\n",
       "      <td>No</td>\n",
       "      <td>No</td>\n",
       "      <td>Yes</td>\n",
       "      <td>No</td>\n",
       "      <td>No</td>\n",
       "      <td>singles_and_families</td>\n",
       "      <td>master_bed</td>\n",
       "      <td>NaN</td>\n",
       "      <td>NaN</td>\n",
       "    </tr>\n",
       "    <tr>\n",
       "      <th>3</th>\n",
       "      <td>Chalet</td>\n",
       "      <td>250</td>\n",
       "      <td>1400</td>\n",
       "      <td>168279</td>\n",
       "      <td>24.920518</td>\n",
       "      <td>46.807296</td>\n",
       "      <td>10</td>\n",
       "      <td>Ar Rimal</td>\n",
       "      <td>No</td>\n",
       "      <td>No</td>\n",
       "      <td>...</td>\n",
       "      <td>No</td>\n",
       "      <td>No</td>\n",
       "      <td>No</td>\n",
       "      <td>Yes</td>\n",
       "      <td>No</td>\n",
       "      <td>No</td>\n",
       "      <td>singles_and_families</td>\n",
       "      <td>master_bed</td>\n",
       "      <td>NaN</td>\n",
       "      <td>NaN</td>\n",
       "    </tr>\n",
       "    <tr>\n",
       "      <th>4</th>\n",
       "      <td>Chalet</td>\n",
       "      <td>250</td>\n",
       "      <td>960</td>\n",
       "      <td>168406</td>\n",
       "      <td>24.920518</td>\n",
       "      <td>46.807296</td>\n",
       "      <td>10</td>\n",
       "      <td>Ar Rimal</td>\n",
       "      <td>No</td>\n",
       "      <td>No</td>\n",
       "      <td>...</td>\n",
       "      <td>No</td>\n",
       "      <td>No</td>\n",
       "      <td>No</td>\n",
       "      <td>Yes</td>\n",
       "      <td>No</td>\n",
       "      <td>No</td>\n",
       "      <td>singles_and_families</td>\n",
       "      <td>master_bed</td>\n",
       "      <td>NaN</td>\n",
       "      <td>NaN</td>\n",
       "    </tr>\n",
       "  </tbody>\n",
       "</table>\n",
       "<p>5 rows × 36 columns</p>\n",
       "</div>"
      ],
      "text/plain": [
       "    title  space  normal_price  views_count        lat        lng  \\\n",
       "0  Chalet    250           890       165160  24.920518  46.807296   \n",
       "1  Chalet    250           890       166069  24.920518  46.807296   \n",
       "2  Chalet    250          1200       167359  24.920518  46.807296   \n",
       "3  Chalet    250          1400       168279  24.920518  46.807296   \n",
       "4  Chalet    250           960       168406  24.920518  46.807296   \n",
       "\n",
       "   booking_count   address elevator internet  ... view playground tent pool  \\\n",
       "0              6  Ar Rimal       No       No  ...   No         No   No  Yes   \n",
       "1              7  Ar Rimal       No       No  ...   No         No   No  Yes   \n",
       "2              8  Ar Rimal       No       No  ...   No         No   No  Yes   \n",
       "3             10  Ar Rimal       No       No  ...   No         No   No  Yes   \n",
       "4             10  Ar Rimal       No       No  ...   No         No   No  Yes   \n",
       "\n",
       "  bbq_corner kitchen_equipments                guests         bed Unnamed: 34  \\\n",
       "0         No                 No  singles_and_families  master_bed         NaN   \n",
       "1         No                 No  singles_and_families  master_bed         NaN   \n",
       "2         No                 No  singles_and_families  master_bed         NaN   \n",
       "3         No                 No  singles_and_families  master_bed         NaN   \n",
       "4         No                 No  singles_and_families  master_bed         NaN   \n",
       "\n",
       "  Unnamed: 35  \n",
       "0         NaN  \n",
       "1    400320.0  \n",
       "2         NaN  \n",
       "3         NaN  \n",
       "4         NaN  \n",
       "\n",
       "[5 rows x 36 columns]"
      ]
     },
     "execution_count": 3,
     "metadata": {},
     "output_type": "execute_result"
    }
   ],
   "source": [
    "df.head()"
   ]
  },
  {
   "cell_type": "code",
   "execution_count": 4,
   "id": "69cedf3c",
   "metadata": {},
   "outputs": [
    {
     "data": {
      "text/plain": [
       "count    30703.000000\n",
       "mean      1108.243168\n",
       "std        820.245509\n",
       "min        200.000000\n",
       "25%        700.000000\n",
       "50%        900.000000\n",
       "75%       1300.000000\n",
       "max      15000.000000\n",
       "Name: normal_price, dtype: float64"
      ]
     },
     "execution_count": 4,
     "metadata": {},
     "output_type": "execute_result"
    }
   ],
   "source": [
    "# Chalet\n",
    "chalet_statics = df.loc[(df.title == 'Chalet')]\n",
    "chalet_statics['normal_price'].describe()"
   ]
  },
  {
   "cell_type": "code",
   "execution_count": 5,
   "id": "d8e42aee",
   "metadata": {},
   "outputs": [
    {
     "data": {
      "text/plain": [
       "count     20215.000000\n",
       "mean        830.493594\n",
       "std        2867.272750\n",
       "min         149.000000\n",
       "25%         400.000000\n",
       "50%         600.000000\n",
       "75%        1000.000000\n",
       "max      400320.000000\n",
       "Name: normal_price, dtype: float64"
      ]
     },
     "execution_count": 5,
     "metadata": {},
     "output_type": "execute_result"
    }
   ],
   "source": [
    "# Apartment\n",
    "apartment_statics = df.loc[(df.title == 'Apartment')]\n",
    "apartment_statics['normal_price'].describe()"
   ]
  },
  {
   "cell_type": "code",
   "execution_count": 6,
   "id": "882927ae",
   "metadata": {},
   "outputs": [
    {
     "data": {
      "text/plain": [
       "count      5847.000000\n",
       "mean       1744.479049\n",
       "std        5456.565006\n",
       "min         250.000000\n",
       "25%         700.000000\n",
       "50%         900.000000\n",
       "75%        1450.000000\n",
       "max      100000.000000\n",
       "Name: normal_price, dtype: float64"
      ]
     },
     "execution_count": 6,
     "metadata": {},
     "output_type": "execute_result"
    }
   ],
   "source": [
    "# Camp\n",
    "camp_statics = df.loc[(df.title == 'Camp')]\n",
    "camp_statics['normal_price'].describe()"
   ]
  },
  {
   "cell_type": "code",
   "execution_count": 7,
   "id": "0aa15062",
   "metadata": {},
   "outputs": [
    {
     "data": {
      "text/plain": [
       "count      531.000000\n",
       "mean      2651.749529\n",
       "std       1952.653046\n",
       "min        500.000000\n",
       "25%       1500.000000\n",
       "50%       2000.000000\n",
       "75%       2550.000000\n",
       "max      10000.000000\n",
       "Name: normal_price, dtype: float64"
      ]
     },
     "execution_count": 7,
     "metadata": {},
     "output_type": "execute_result"
    }
   ],
   "source": [
    "# Farm\n",
    "farm_statics = df.loc[(df.title == 'Farm')]\n",
    "farm_statics['normal_price'].describe()"
   ]
  },
  {
   "cell_type": "code",
   "execution_count": 8,
   "id": "7599d15e",
   "metadata": {},
   "outputs": [
    {
     "data": {
      "text/plain": [
       "count     4489.000000\n",
       "mean      2138.707507\n",
       "std       2723.829370\n",
       "min        200.000000\n",
       "25%        800.000000\n",
       "50%       1250.000000\n",
       "75%       2250.000000\n",
       "max      22000.000000\n",
       "Name: normal_price, dtype: float64"
      ]
     },
     "execution_count": 8,
     "metadata": {},
     "output_type": "execute_result"
    }
   ],
   "source": [
    "# Istraha\n",
    "istraha_statics = df.loc[(df.title == 'Istraha')]\n",
    "istraha_statics['normal_price'].describe()"
   ]
  },
  {
   "cell_type": "code",
   "execution_count": 9,
   "id": "58c4f235",
   "metadata": {},
   "outputs": [
    {
     "data": {
      "text/plain": [
       "count     1219.000000\n",
       "mean      3260.196883\n",
       "std       4811.293881\n",
       "min        499.000000\n",
       "25%       1100.000000\n",
       "50%       1500.000000\n",
       "75%       2250.000000\n",
       "max      23000.000000\n",
       "Name: normal_price, dtype: float64"
      ]
     },
     "execution_count": 9,
     "metadata": {},
     "output_type": "execute_result"
    }
   ],
   "source": [
    "# Resort\n",
    "resort_statics = df.loc[(df.title == 'Resort')]\n",
    "resort_statics['normal_price'].describe()"
   ]
  },
  {
   "cell_type": "code",
   "execution_count": 10,
   "id": "09431162",
   "metadata": {},
   "outputs": [
    {
     "data": {
      "text/plain": [
       "count    3019.000000\n",
       "mean      490.221265\n",
       "std       523.471976\n",
       "min        76.000000\n",
       "25%       259.000000\n",
       "50%       350.000000\n",
       "75%       550.000000\n",
       "max      5000.000000\n",
       "Name: normal_price, dtype: float64"
      ]
     },
     "execution_count": 10,
     "metadata": {},
     "output_type": "execute_result"
    }
   ],
   "source": [
    "# Room\n",
    "room_statics = df.loc[(df.title == 'Room')]\n",
    "room_statics['normal_price'].describe()"
   ]
  },
  {
   "cell_type": "code",
   "execution_count": 11,
   "id": "e05ff4db",
   "metadata": {},
   "outputs": [
    {
     "data": {
      "text/plain": [
       "count     922.000000\n",
       "mean     1976.281996\n",
       "std       573.200200\n",
       "min       500.000000\n",
       "25%      1666.000000\n",
       "50%      2000.000000\n",
       "75%      2200.000000\n",
       "max      4800.000000\n",
       "Name: normal_price, dtype: float64"
      ]
     },
     "execution_count": 11,
     "metadata": {},
     "output_type": "execute_result"
    }
   ],
   "source": [
    "# Villa\n",
    "villa_statics = df.loc[(df.title == 'Villa')]\n",
    "villa_statics['normal_price'].describe()"
   ]
  }
 ],
 "metadata": {
  "kernelspec": {
   "display_name": "Python 3",
   "language": "python",
   "name": "python3"
  },
  "language_info": {
   "codemirror_mode": {
    "name": "ipython",
    "version": 3
   },
   "file_extension": ".py",
   "mimetype": "text/x-python",
   "name": "python",
   "nbconvert_exporter": "python",
   "pygments_lexer": "ipython3",
   "version": "3.8.8"
  }
 },
 "nbformat": 4,
 "nbformat_minor": 5
}
